{
 "cells": [
  {
   "cell_type": "markdown",
   "metadata": {},
   "source": [
    "# Python Data Types\n",
    "1. int (Integer)\n",
    "\n",
    "Definition: Represents whole numbers without a fractional component.\n",
    "Examples: 5, -3, 42\n",
    "Usage: Useful for counting, indexing, and representing discrete values.\n",
    "Operations: Addition (+), subtraction (-), multiplication (*), division (/), modulus (%), exponentiation (**)."
   ]
  },
  {
   "cell_type": "code",
   "execution_count": 5,
   "metadata": {},
   "outputs": [],
   "source": [
    "a = 10\n",
    "b = -5\n",
    "sum_ab = a + b  # Result: 5"
   ]
  },
  {
   "cell_type": "markdown",
   "metadata": {},
   "source": [
    "2. float (Floating-Point Number)\n",
    "\n",
    "Definition: Represents real numbers, including a decimal point.\n",
    "Examples: 3.14, -0.001, 2.71828\n",
    "Usage: Useful for calculations requiring precision, like scientific computations, measurements, and financial calculations.\n",
    "Operations: Similar to int, but can include operations with decimal points."
   ]
  },
  {
   "cell_type": "code",
   "execution_count": 6,
   "metadata": {},
   "outputs": [],
   "source": [
    "pi = 3.14\n",
    "radius = 2.5\n",
    "circumference = 2 * pi * radius  # Result: 15.7"
   ]
  },
  {
   "cell_type": "markdown",
   "metadata": {},
   "source": [
    "3. str (String)\n",
    "\n",
    "Definition: Represents a sequence of characters enclosed within single quotes (') or double quotes (\").\n",
    "Examples: \"Hello, world!\", 'Python', \"1234\"\n",
    "Usage: Useful for text manipulation, storing user input, file paths, and any data that requires textual representation.\n",
    "Operations: Concatenation (+), repetition (*), slicing ([]), and various string methods like upper(), lower(), find(), replace().v"
   ]
  },
  {
   "cell_type": "code",
   "execution_count": 7,
   "metadata": {},
   "outputs": [],
   "source": [
    "greeting = \"Hello\"\n",
    "name = \"Alice\"\n",
    "welcome_message = greeting + \", \" + name + \"!\"  # Result: \"Hello, Alice!\""
   ]
  },
  {
   "cell_type": "markdown",
   "metadata": {},
   "source": [
    "4. bool (Boolean)\n",
    "\n",
    "Definition: Represents one of two values: True or False.\n",
    "Examples: True, False\n",
    "Usage: Useful for conditional statements, control flow, and representing binary states (on/off, yes/no).\n",
    "Operations: Logical operations (and, or, not), comparison operations (==, !=, <, >, <=, >=)."
   ]
  },
  {
   "cell_type": "code",
   "execution_count": 8,
   "metadata": {},
   "outputs": [],
   "source": [
    "is_sunny = True\n",
    "is_raining = False\n",
    "is_nice_weather = is_sunny and not is_raining  # Result: True"
   ]
  }
 ],
 "metadata": {
  "kernelspec": {
   "display_name": "Python 3",
   "language": "python",
   "name": "python3"
  },
  "language_info": {
   "codemirror_mode": {
    "name": "ipython",
    "version": 3
   },
   "file_extension": ".py",
   "mimetype": "text/x-python",
   "name": "python",
   "nbconvert_exporter": "python",
   "pygments_lexer": "ipython3",
   "version": "3.10.13"
  }
 },
 "nbformat": 4,
 "nbformat_minor": 2
}
