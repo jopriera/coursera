{
 "cells": [
  {
   "cell_type": "markdown",
   "id": "7245ad17-5107-4f7e-be25-2970c12417fb",
   "metadata": {},
   "source": [
    "# What are Strings?"
   ]
  },
  {
   "cell_type": "code",
   "execution_count": 43,
   "id": "3e4685de-5077-4516-b304-3eff8e5a80f5",
   "metadata": {},
   "outputs": [
    {
     "data": {
      "text/plain": [
       "'Michael Jackson'"
      ]
     },
     "execution_count": 43,
     "metadata": {},
     "output_type": "execute_result"
    }
   ],
   "source": [
    "# Use quotation marks for defining string\n",
    "\n",
    "\"Michael Jackson\""
   ]
  },
  {
   "cell_type": "code",
   "execution_count": 45,
   "id": "5ecb078f-b96c-43ef-86c8-5373e13118c3",
   "metadata": {},
   "outputs": [
    {
     "data": {
      "text/plain": [
       "'Michael Jackson'"
      ]
     },
     "execution_count": 45,
     "metadata": {},
     "output_type": "execute_result"
    }
   ],
   "source": [
    "# Use single quotation marks for defining string\n",
    "\n",
    "'Michael Jackson'"
   ]
  },
  {
   "cell_type": "markdown",
   "id": "aa332b8d-12e2-4caf-86ab-048e9290157e",
   "metadata": {},
   "source": [
    "A string can be a combination of spaces and digits:\n"
   ]
  },
  {
   "cell_type": "code",
   "execution_count": 41,
   "id": "c558785a-bfed-460f-a258-938c13ad2ae8",
   "metadata": {},
   "outputs": [
    {
     "data": {
      "text/plain": [
       "'1 2 3 4 5 6 '"
      ]
     },
     "execution_count": 41,
     "metadata": {},
     "output_type": "execute_result"
    }
   ],
   "source": [
    "# Digitals and spaces in string\n",
    "\n",
    "'1 2 3 4 5 6 '"
   ]
  },
  {
   "cell_type": "markdown",
   "id": "19ca0a19-10e7-4b74-9b29-d65f3bbda47d",
   "metadata": {},
   "source": [
    "A string can also be a combination of special characters :"
   ]
  },
  {
   "cell_type": "code",
   "execution_count": 48,
   "id": "f69c0d4c-3340-4c57-980d-015ceadad2fc",
   "metadata": {},
   "outputs": [
    {
     "data": {
      "text/plain": [
       "'@#2_#]&*^%$'"
      ]
     },
     "execution_count": 48,
     "metadata": {},
     "output_type": "execute_result"
    }
   ],
   "source": [
    "# Special characters in string\n",
    "\n",
    "'@#2_#]&*^%$'"
   ]
  },
  {
   "cell_type": "markdown",
   "id": "78f461c4-635c-4db5-a224-2dc8f8f3a371",
   "metadata": {},
   "source": [
    "We can print our string using the print statement:"
   ]
  },
  {
   "cell_type": "code",
   "execution_count": 51,
   "id": "7f0ecec2-0ee5-481d-80db-b726272d182e",
   "metadata": {},
   "outputs": [
    {
     "name": "stdout",
     "output_type": "stream",
     "text": [
      "hello!\n"
     ]
    }
   ],
   "source": [
    "# Print the string\n",
    "\n",
    "print(\"hello!\")"
   ]
  },
  {
   "cell_type": "markdown",
   "id": "2489d43a-dbd3-491e-b75e-8adf232c3152",
   "metadata": {},
   "source": [
    "We can bind or assign a string to another variable:\n"
   ]
  },
  {
   "cell_type": "code",
   "execution_count": 54,
   "id": "3430a649-6b02-492b-b642-e262efc172fc",
   "metadata": {},
   "outputs": [
    {
     "data": {
      "text/plain": [
       "'Michael Jackson'"
      ]
     },
     "execution_count": 54,
     "metadata": {},
     "output_type": "execute_result"
    }
   ],
   "source": [
    "# Assign string to variable\n",
    "\n",
    "name = \"Michael Jackson\"\n",
    "name"
   ]
  },
  {
   "cell_type": "markdown",
   "id": "066dd0fb-6007-4395-ad15-49d686522b70",
   "metadata": {},
   "source": [
    "# Indexing\n"
   ]
  },
  {
   "cell_type": "markdown",
   "id": "4fdc5932-c859-4c11-82ff-900d8680a982",
   "metadata": {},
   "source": [
    "It is helpful to think of a string as an ordered sequence. Each element in the sequence can be accessed using an index represented by the array of numbers:"
   ]
  },
  {
   "cell_type": "markdown",
   "id": "6a0b0f33-ed1d-405c-8cf2-2975886b7443",
   "metadata": {},
   "source": [
    "<img src=\"https://cf-courses-data.s3.us.cloud-object-storage.appdomain.cloud/IBMDeveloperSkillsNetwork-PY0101EN-SkillsNetwork/labs/Module%201/images/StringsIndex.png\" width=\"600\" align=\"center\">"
   ]
  },
  {
   "cell_type": "markdown",
   "id": "88a7428b-9e6b-4466-87b4-b2cac17c9ec1",
   "metadata": {},
   "source": [
    "The first index can be accessed as follows:\n"
   ]
  },
  {
   "cell_type": "code",
   "execution_count": 65,
   "id": "2d139602-eb8e-4965-8c61-756172418dba",
   "metadata": {},
   "outputs": [
    {
     "name": "stdout",
     "output_type": "stream",
     "text": [
      "M\n"
     ]
    }
   ],
   "source": [
    "# Print the first element in the string\n",
    "\n",
    "print(name[0])"
   ]
  },
  {
   "cell_type": "code",
   "execution_count": 67,
   "id": "638cd09e-22bc-4cf3-a8c6-254451ac1b16",
   "metadata": {},
   "outputs": [
    {
     "name": "stdout",
     "output_type": "stream",
     "text": [
      "l\n"
     ]
    }
   ],
   "source": [
    "# Print the element on index 6 in the string\n",
    "\n",
    "print(name[6])"
   ]
  },
  {
   "cell_type": "code",
   "execution_count": 69,
   "id": "81d472ac-95ae-4d49-96be-07465319f52f",
   "metadata": {},
   "outputs": [
    {
     "name": "stdout",
     "output_type": "stream",
     "text": [
      "o\n"
     ]
    }
   ],
   "source": [
    "# Print the element on the 13th index in the string\n",
    "\n",
    "print(name[13])"
   ]
  },
  {
   "cell_type": "markdown",
   "id": "366a4e41-7fc0-4e37-a563-b8033e0ecaac",
   "metadata": {},
   "source": [
    "# Negative Indexing"
   ]
  },
  {
   "cell_type": "markdown",
   "id": "7f1fe52f-bd16-4509-8936-9fef0adfaefb",
   "metadata": {},
   "source": [
    "We can also use negative indexing with strings:\n"
   ]
  },
  {
   "cell_type": "markdown",
   "id": "7b9d5f43-c9d7-4a5d-bac8-e201f6425a5b",
   "metadata": {},
   "source": [
    "<img src=\"https://cf-courses-data.s3.us.cloud-object-storage.appdomain.cloud/IBMDeveloperSkillsNetwork-PY0101EN-SkillsNetwork/labs/Module%201/images/StringsNeg.png\" width=\"600\" align=\"center\">\n"
   ]
  },
  {
   "cell_type": "code",
   "execution_count": 74,
   "id": "5457c009-5f67-47aa-8f94-9161f2c38d50",
   "metadata": {},
   "outputs": [
    {
     "name": "stdout",
     "output_type": "stream",
     "text": [
      "n\n"
     ]
    }
   ],
   "source": [
    "# Print the last element in the string\n",
    "\n",
    "print(name[-1])"
   ]
  },
  {
   "cell_type": "code",
   "execution_count": 76,
   "id": "7619c4b0-20c7-4b85-b56a-739666fba6a7",
   "metadata": {},
   "outputs": [
    {
     "name": "stdout",
     "output_type": "stream",
     "text": [
      "M\n"
     ]
    }
   ],
   "source": [
    "# Print the first element in the string\n",
    "\n",
    "print(name[-15])"
   ]
  },
  {
   "cell_type": "markdown",
   "id": "12b029d4-6377-4ffe-a814-b8f67431b7c8",
   "metadata": {},
   "source": [
    "We can find the number of characters in a string by using <code>len</code>, short for length:\n"
   ]
  },
  {
   "cell_type": "code",
   "execution_count": 79,
   "id": "23902105-2d7f-4d8c-a237-3d88322fb1c3",
   "metadata": {},
   "outputs": [
    {
     "data": {
      "text/plain": [
       "15"
      ]
     },
     "execution_count": 79,
     "metadata": {},
     "output_type": "execute_result"
    }
   ],
   "source": [
    "# Find the length of string\n",
    "\n",
    "len(\"Michael Jackson\")"
   ]
  },
  {
   "cell_type": "markdown",
   "id": "501ecea1-bb2f-41e6-ab64-9e7555915e96",
   "metadata": {},
   "source": [
    "# Slicing"
   ]
  },
  {
   "cell_type": "markdown",
   "id": "d4ec2c97-7da5-4ab1-a5d0-f0b50594f2a6",
   "metadata": {},
   "source": [
    "We can obtain multiple characters from a string using slicing, we can obtain the 0 to 4th and 8th to the 12th element:\n"
   ]
  },
  {
   "cell_type": "markdown",
   "id": "edf0030a-8b89-4a2d-b044-bcb572a53f45",
   "metadata": {},
   "source": [
    "<img src=\"https://cf-courses-data.s3.us.cloud-object-storage.appdomain.cloud/IBMDeveloperSkillsNetwork-PY0101EN-SkillsNetwork/labs/Module%201/images/StringsSlice.png\" width=\"600\" align=\"center\">\n"
   ]
  },
  {
   "cell_type": "code",
   "execution_count": 88,
   "id": "f8975802-9004-4574-b4c2-8223f68aecb5",
   "metadata": {},
   "outputs": [
    {
     "data": {
      "text/plain": [
       "'Mich'"
      ]
     },
     "execution_count": 88,
     "metadata": {},
     "output_type": "execute_result"
    }
   ],
   "source": [
    "# Take the slice on variable name with only index 0 to index 3\n",
    "\n",
    "name[0:4]"
   ]
  },
  {
   "cell_type": "code",
   "execution_count": 90,
   "id": "fc11f312-237f-42c9-9a78-21904efde71a",
   "metadata": {},
   "outputs": [
    {
     "data": {
      "text/plain": [
       "'Jack'"
      ]
     },
     "execution_count": 90,
     "metadata": {},
     "output_type": "execute_result"
    }
   ],
   "source": [
    "# Take the slice on variable name with only index 8 to index 11\n",
    "\n",
    "name[8:12]"
   ]
  },
  {
   "cell_type": "markdown",
   "id": "f4504b42-b61f-42c6-b3ef-b3bbef6ee007",
   "metadata": {},
   "source": [
    "# Stride"
   ]
  },
  {
   "cell_type": "markdown",
   "id": "a29233e0-6606-4889-ad1a-39f4c6b90649",
   "metadata": {},
   "source": [
    "We can also input a stride value as follows, with the '2' indicating that we are selecting every second variable:"
   ]
  },
  {
   "cell_type": "markdown",
   "id": "af4d77a4-5120-4cb1-bba0-f0905fe2da43",
   "metadata": {},
   "source": [
    "<img src=\"https://cf-courses-data.s3.us.cloud-object-storage.appdomain.cloud/IBMDeveloperSkillsNetwork-PY0101EN-SkillsNetwork/labs/Module%201/images/StringsStride.png\" width=\"600\" align=\"center\">\n"
   ]
  },
  {
   "cell_type": "code",
   "execution_count": 95,
   "id": "7a811a3a-34aa-4fa7-b592-1c14f2102dd3",
   "metadata": {},
   "outputs": [
    {
     "data": {
      "text/plain": [
       "'McalJcsn'"
      ]
     },
     "execution_count": 95,
     "metadata": {},
     "output_type": "execute_result"
    }
   ],
   "source": [
    "# Get every second element. The elments on index 1, 3, 5 ...\n",
    "\n",
    "name[::2]"
   ]
  },
  {
   "cell_type": "markdown",
   "id": "e4766ceb-65f4-415d-ae31-9a45b3502292",
   "metadata": {},
   "source": [
    "We can also incorporate slicing  with the stride. In this case, we select the first five elements and then use the stride:\n"
   ]
  },
  {
   "cell_type": "code",
   "execution_count": 99,
   "id": "7dac09a2-52c4-45d0-94e2-99dfde196cd6",
   "metadata": {},
   "outputs": [
    {
     "data": {
      "text/plain": [
       "'Mca'"
      ]
     },
     "execution_count": 99,
     "metadata": {},
     "output_type": "execute_result"
    }
   ],
   "source": [
    "# Get every second element in the range from index 0 to index 4\n",
    "\n",
    "name[0:5:2]"
   ]
  },
  {
   "cell_type": "markdown",
   "id": "6bb426a8-f6ee-4f40-a7df-e92e5df7abe5",
   "metadata": {},
   "source": [
    "# Concatenate Strings\n"
   ]
  },
  {
   "cell_type": "markdown",
   "id": "d986b4c6-3b4c-478d-b0a5-83f80047b9cf",
   "metadata": {},
   "source": [
    "We can concatenate or combine strings by using the addition symbols, and the result is a new string that is a combination of both:\n",
    "\n",
    "·Concatenate two strings\n",
    "You can create a new string by setting it to the original variable. Concatenated with a new string, the result is a new string that changes from Michael Jackson to “Michael Jackson is the best\".\n",
    "\n",
    "You can create a new string by setting it to the original variable. Concatenated with a new string, the result is a new string that changes from Michael Jackson to “Michael Jackson is the best\"."
   ]
  },
  {
   "cell_type": "code",
   "execution_count": 105,
   "id": "bd18c632-d749-44cb-8c78-55651f9a0174",
   "metadata": {},
   "outputs": [
    {
     "data": {
      "text/plain": [
       "'Michael Jackson is the best'"
      ]
     },
     "execution_count": 105,
     "metadata": {},
     "output_type": "execute_result"
    }
   ],
   "source": [
    "# Concatenate strings\n",
    "\n",
    "name = \"Michael Jackson\"\n",
    "name = name + \" is the best\"\n",
    "name"
   ]
  },
  {
   "cell_type": "markdown",
   "id": "17375b36-fca2-4b07-86b3-e9c759a45f79",
   "metadata": {},
   "source": [
    "# Escape Sequences"
   ]
  },
  {
   "cell_type": "markdown",
   "id": "6ae31bd8-b6cf-4e0e-a648-1ca02506229b",
   "metadata": {},
   "source": [
    "Back slashes represent the beginning  of escape sequences. Escape sequences represent strings that may be difficult to input. For example, back slash \"n\" represents a new line. The output is given by a new line after the back slash \"n\" is encountered:\n"
   ]
  },
  {
   "cell_type": "markdown",
   "id": "cf901b8e-b2c9-4d7d-bdfb-61b8a1e033b7",
   "metadata": {},
   "source": [
    "# New line escape sequence\n",
    "\n",
    "print(\" Michael Jackson \\n is the best\" )"
   ]
  },
  {
   "cell_type": "code",
   "execution_count": 115,
   "id": "b0d6e2b2-5fd5-461f-ad01-ddfb45f4581b",
   "metadata": {},
   "outputs": [
    {
     "name": "stdout",
     "output_type": "stream",
     "text": [
      " Michael Jackson \t is the best\n"
     ]
    }
   ],
   "source": [
    "# Tab escape sequence\n",
    "\n",
    "print(\" Michael Jackson \\t is the best\" )"
   ]
  },
  {
   "cell_type": "code",
   "execution_count": 117,
   "id": "febab31c-611e-473b-b077-7bb5a84685c4",
   "metadata": {},
   "outputs": [
    {
     "name": "stdout",
     "output_type": "stream",
     "text": [
      " Michael Jackson \\ is the best\n"
     ]
    }
   ],
   "source": [
    "# Include back slash in string\n",
    "\n",
    "print(\" Michael Jackson \\\\ is the best\" )"
   ]
  },
  {
   "cell_type": "code",
   "execution_count": 119,
   "id": "9c51cb8b-cea4-4c08-b685-a37728112aac",
   "metadata": {},
   "outputs": [
    {
     "name": "stdout",
     "output_type": "stream",
     "text": [
      " Michael Jackson \\ is the best\n"
     ]
    }
   ],
   "source": [
    "# r will tell python that string will be display as raw string\n",
    "\n",
    "print(r\" Michael Jackson \\ is the best\" )"
   ]
  },
  {
   "cell_type": "markdown",
   "id": "a2e93fa8-cda6-456e-86b2-ce5de6885f7a",
   "metadata": {},
   "source": [
    "# String Manipulation Operations"
   ]
  },
  {
   "cell_type": "markdown",
   "id": "677ef5a1-bc0d-4fe1-949f-d872c0f0ed15",
   "metadata": {},
   "source": [
    "There are many string operation methods in Python that can be used to manipulate the data. We are going to use some basic string operations on the data.\n",
    "Let's try with the method <code>upper</code>; this method converts lower case characters to upper case characters:\n"
   ]
  },
  {
   "cell_type": "code",
   "execution_count": 131,
   "id": "d753e931-1280-4b25-be53-6a245b2876ae",
   "metadata": {},
   "outputs": [
    {
     "name": "stdout",
     "output_type": "stream",
     "text": [
      "before upper: Thriller is the sixth studio album\n",
      "After upper: THRILLER IS THE SIXTH STUDIO ALBUM\n"
     ]
    }
   ],
   "source": [
    "# Convert all the characters in string to upper case\n",
    "\n",
    "a = \"Thriller is the sixth studio album\"\n",
    "print(\"before upper:\", a)\n",
    "b = a.upper()\n",
    "print(\"After upper:\", b)"
   ]
  },
  {
   "cell_type": "markdown",
   "id": "40dceb41-74b6-4d8d-9b28-8f55bfaf52f0",
   "metadata": {},
   "source": [
    "The method <code>replace</code> replaces a segment of the string, i.e. a substring  with a new string. We input the part of the string we would like to change. The second argument is what we would like to exchange the segment with, and the result is a new string with the segment changed:\n"
   ]
  },
  {
   "cell_type": "code",
   "execution_count": 134,
   "id": "9a1287f9-0579-4a1c-9a2c-dce6ae7cad54",
   "metadata": {},
   "outputs": [
    {
     "data": {
      "text/plain": [
       "'Janet Jackson is the best'"
      ]
     },
     "execution_count": 134,
     "metadata": {},
     "output_type": "execute_result"
    }
   ],
   "source": [
    "# Replace the old substring with the new target substring is the segment has been found in the string\n",
    "\n",
    "a = \"Michael Jackson is the best\"\n",
    "b = a.replace('Michael', 'Janet')\n",
    "b"
   ]
  },
  {
   "cell_type": "markdown",
   "id": "6524f7c9-3df9-4e10-9ae6-4779f3846635",
   "metadata": {},
   "source": [
    "The method <code>find</code> finds a sub-string. The argument is the substring you would like to find, and the output is the first index of the sequence. We can find the sub-string <code>jack</code> or <code>el<code>.\n"
   ]
  },
  {
   "cell_type": "markdown",
   "id": "c3b080a7-b976-47ce-97f7-dffbdeb64074",
   "metadata": {},
   "source": [
    "<img src=\"https://cf-courses-data.s3.us.cloud-object-storage.appdomain.cloud/IBMDeveloperSkillsNetwork-PY0101EN-SkillsNetwork/labs/Module%201/images/StringsFind.png\" width=\"600\" align=\"center\">\n"
   ]
  },
  {
   "cell_type": "code",
   "execution_count": 138,
   "id": "7bfa2e03-c75b-422e-87ad-53d6d8bad9d7",
   "metadata": {},
   "outputs": [
    {
     "data": {
      "text/plain": [
       "5"
      ]
     },
     "execution_count": 138,
     "metadata": {},
     "output_type": "execute_result"
    }
   ],
   "source": [
    "# Find the substring in the string. Only the index of the first elment of substring in string will be the output\n",
    "\n",
    "name = \"Michael Jackson\"\n",
    "name.find('el')"
   ]
  },
  {
   "cell_type": "code",
   "execution_count": 140,
   "id": "c2b7b8e7-4f05-4105-a4dd-8f71f4f5960f",
   "metadata": {},
   "outputs": [
    {
     "data": {
      "text/plain": [
       "8"
      ]
     },
     "execution_count": 140,
     "metadata": {},
     "output_type": "execute_result"
    }
   ],
   "source": [
    "# Find the substring in the string.\n",
    "\n",
    "name.find('Jack')"
   ]
  },
  {
   "cell_type": "markdown",
   "id": "939e75be-c474-4b1d-a30e-f2000fc7b8d0",
   "metadata": {},
   "source": [
    "If the  sub-string is not in the string then the output is a negative one. For example, the string 'Jasdfasdasdf' is not a substring:\n"
   ]
  },
  {
   "cell_type": "code",
   "execution_count": 143,
   "id": "31bf70fb-e8e5-4067-aca5-d6f49a515d30",
   "metadata": {},
   "outputs": [
    {
     "data": {
      "text/plain": [
       "-1"
      ]
     },
     "execution_count": 143,
     "metadata": {},
     "output_type": "execute_result"
    }
   ],
   "source": [
    "# If cannot find the substring in the string\n",
    "\n",
    "name.find('Jasdfasdasdf')"
   ]
  },
  {
   "cell_type": "markdown",
   "id": "7a95757f-1e8f-4d94-9093-aba818e453b2",
   "metadata": {},
   "source": [
    "The method <code>Split</code> splits the string at the specified separator, and returns a list:\n"
   ]
  },
  {
   "cell_type": "code",
   "execution_count": 146,
   "id": "8ab340cc-ec28-4273-9391-0cf0fbc6f184",
   "metadata": {},
   "outputs": [
    {
     "data": {
      "text/plain": [
       "['Michael', 'Jackson']"
      ]
     },
     "execution_count": 146,
     "metadata": {},
     "output_type": "execute_result"
    }
   ],
   "source": [
    "#Split the substring into list\n",
    "name = \"Michael Jackson\"\n",
    "split_string = (name.split())\n",
    "split_string"
   ]
  },
  {
   "cell_type": "markdown",
   "id": "42d93bbe-6bb7-4440-9116-0f2dae38e1e2",
   "metadata": {},
   "source": [
    "# RegEx"
   ]
  },
  {
   "cell_type": "markdown",
   "id": "6f7a2dc7-aed9-423a-ad21-589609983225",
   "metadata": {},
   "source": [
    "In Python, RegEx (short for Regular Expression) is a tool for matching and handling strings. <br>\n",
    "This RegEx module provides several functions for working with regular expressions, including <code>search, split, findall,</code> and <code>sub</code>. <br>\n",
    "Python provides a built-in module called <code>re</code>, which allows you to work with regular expressions. \n",
    "First, import the <code>re</code> module"
   ]
  },
  {
   "cell_type": "code",
   "execution_count": 152,
   "id": "5d803765-8714-43b8-8a2c-52c0a2aa5291",
   "metadata": {},
   "outputs": [],
   "source": [
    "import re"
   ]
  },
  {
   "cell_type": "markdown",
   "id": "88f8ad25-8618-4bf9-a649-f7748d9a6b76",
   "metadata": {},
   "source": [
    "The search() function searches for specified patterns within a string. Here is an example that explains how to use the search() function to search for the word \"Jackson\" in the string \"Michael Jackson is the best\".\n"
   ]
  },
  {
   "cell_type": "code",
   "execution_count": 155,
   "id": "c354e9f6-8233-4ffd-a23f-a04b04415750",
   "metadata": {},
   "outputs": [
    {
     "name": "stdout",
     "output_type": "stream",
     "text": [
      "Match found!\n"
     ]
    }
   ],
   "source": [
    "s1 = \"Michael Jackson is the best\"\n",
    "\n",
    "# Define the pattern to search for\n",
    "pattern = r\"Jackson\"\n",
    "\n",
    "# Use the search() function to search for the pattern in the string\n",
    "result = re.search(pattern, s1)\n",
    "\n",
    "# Check if a match was found\n",
    "if result:\n",
    "    print(\"Match found!\")\n",
    "else:\n",
    "    print(\"Match not found.\")\n"
   ]
  },
  {
   "cell_type": "markdown",
   "id": "8fd134c0-d767-4731-9856-6bc9e0dd99a3",
   "metadata": {},
   "source": [
    "Regular expressions (RegEx) are patterns used to match and manipulate strings of text. There are several special sequences in RegEx that can be used to match specific characters or patterns.\n",
    "\n",
    "| Special Sequence | Meaning                 | \tExample             |\n",
    "| -----------  | ----------------------- | ----------------------|\n",
    "| \\d|Matches any digit character (0-9)|\"123\" matches \"\\d\\d\\d\"|\n",
    "|\\D|Matches any non-digit character|\"hello\" matches \"\\D\\D\\D\\D\\D\"|\n",
    "|\\w|Matches any word character (a-z, A-Z, 0-9, and _)|\"hello_world\" matches \"\\w\\w\\w\\w\\w\\w\\w\\w\\w\\w\\w\"|\n",
    "|\\W|Matches any non-word character|\t\"@#$%\" matches \"\\W\\W\\W\\W\"|\n",
    "|\\s|Matches any whitespace character (space, tab, newline, etc.)|\"hello world\" matches \"\\w\\w\\w\\w\\w\\s\\w\\w\\w\\w\\w\"|\n",
    "|\\S|Matches any non-whitespace character|\"hello_world\" matches \"\\S\\S\\S\\S\\S\\S\\S\\S\\S\"|\n",
    "|\\b|Matches the boundary between a word character and a non-word character|\"cat\" matches \"\\bcat\\b\" in \"The cat sat on the mat\"|\n",
    "|\\B|Matches any position that is not a word boundary|\"cat\" matches \"\\Bcat\\B\" in \"category\" but not in \"The cat sat on the mat\"|\n"
   ]
  },
  {
   "cell_type": "markdown",
   "id": "a653c698-1bcc-4345-8f4c-39e32e604e72",
   "metadata": {},
   "source": [
    "Special Sequence Examples:\n",
    "\n",
    "A simple example of using the <code>\\d</code> special sequence in a regular expression pattern with Python code:"
   ]
  },
  {
   "cell_type": "code",
   "execution_count": 160,
   "id": "ceed657a-78ca-461f-807f-3f908aa73f32",
   "metadata": {},
   "outputs": [
    {
     "name": "stdout",
     "output_type": "stream",
     "text": [
      "Phone number found: 1234567890\n"
     ]
    }
   ],
   "source": [
    "pattern = r\"\\d\\d\\d\\d\\d\\d\\d\\d\\d\\d\"  # Matches any ten consecutive digits\n",
    "text = \"My Phone number is 1234567890\"\n",
    "match = re.search(pattern, text)\n",
    "\n",
    "if match:\n",
    "    print(\"Phone number found:\", match.group())\n",
    "else:\n",
    "    print(\"No match\")"
   ]
  },
  {
   "cell_type": "markdown",
   "id": "b384c701-f843-4c06-9fea-380f28e366b5",
   "metadata": {},
   "source": [
    "The regular expression pattern is defined as r\"\\d\\d\\d\\d\\d\\d\\d\\d\\d\\d\", which uses the \\d special sequence to match any digit character (0-9), and the \\d sequence is repeated ten times to match ten consecutive digits\n",
    "\n",
    "A simple example of using the \\W special sequence in a regular expression pattern with Python code:"
   ]
  },
  {
   "cell_type": "code",
   "execution_count": 163,
   "id": "a8b36edd-0ce0-404b-bfa5-35a01d7a38af",
   "metadata": {},
   "outputs": [
    {
     "name": "stdout",
     "output_type": "stream",
     "text": [
      "Matches: [',', ' ', '!']\n"
     ]
    }
   ],
   "source": [
    "pattern = r\"\\W\"  # Matches any non-word character\n",
    "text = \"Hello, world!\"\n",
    "matches = re.findall(pattern, text)\n",
    "\n",
    "print(\"Matches:\", matches)"
   ]
  },
  {
   "cell_type": "markdown",
   "id": "b2783b8a-230a-4564-b4f9-243a41c8f4a4",
   "metadata": {},
   "source": [
    "The regular expression pattern is defined as r\"\\W\", which uses the \\W special sequence to match any character that is not a word character (a-z, A-Z, 0-9, or _). The string we're searching for matches in is \"Hello, world!\".\n"
   ]
  },
  {
   "cell_type": "markdown",
   "id": "efafb1ef-bbb5-429c-8b90-b23cf0aa6991",
   "metadata": {},
   "source": [
    "The <code>findall()</code> function finds all occurrences of a specified pattern within a string.\n"
   ]
  },
  {
   "cell_type": "code",
   "execution_count": null,
   "id": "b3f894fd-a5b6-4484-b55b-70b0c8fec374",
   "metadata": {},
   "outputs": [],
   "source": []
  },
  {
   "cell_type": "code",
   "execution_count": null,
   "id": "f8d40b72-febe-46d8-833a-7d57b7620dfa",
   "metadata": {},
   "outputs": [],
   "source": []
  },
  {
   "cell_type": "code",
   "execution_count": null,
   "id": "2245ad11-f8ba-437f-b24c-7f157ac9968b",
   "metadata": {},
   "outputs": [],
   "source": []
  },
  {
   "cell_type": "code",
   "execution_count": null,
   "id": "eaf0d7c9-14ec-4d21-bddb-15d904da2df4",
   "metadata": {},
   "outputs": [],
   "source": []
  },
  {
   "cell_type": "code",
   "execution_count": null,
   "id": "eaaf623c-8533-47cc-bc1e-bdc257df7c72",
   "metadata": {},
   "outputs": [],
   "source": []
  },
  {
   "cell_type": "markdown",
   "id": "df55dc02-b04b-4e9f-bc26-00ffefe0a3c5",
   "metadata": {},
   "source": [
    "# String interpolation (f-strings)"
   ]
  },
  {
   "cell_type": "markdown",
   "id": "48e3d7c5-974c-4168-851d-360194d9d44f",
   "metadata": {},
   "source": [
    "Introduced in Python 3.6, f-strings are a new way to format strings in Python. They are prefixed with 'f' and use curly braces {} to enclose the variables that will be formatted. For example:"
   ]
  },
  {
   "cell_type": "code",
   "execution_count": 3,
   "id": "2219d82e-c34d-4fd7-8efb-c1f5757ff7ed",
   "metadata": {},
   "outputs": [
    {
     "name": "stdout",
     "output_type": "stream",
     "text": [
      "My name is John and I am 30 years old.\n"
     ]
    }
   ],
   "source": [
    "name = \"John\"\n",
    "age = 30\n",
    "print(f\"My name is {name} and I am {age} years old.\")"
   ]
  },
  {
   "cell_type": "markdown",
   "id": "c089a8ce-ea0b-43a1-8cdd-931a50a0efec",
   "metadata": {},
   "source": [
    "# str.format()"
   ]
  },
  {
   "cell_type": "markdown",
   "id": "c97ae46a-d643-495d-91e7-a1ffa4fb3fac",
   "metadata": {},
   "source": [
    "This is another way to format strings in Python. It uses curly braces {} as placeholders for variables which are passed as arguments in the format() method. For example:"
   ]
  },
  {
   "cell_type": "code",
   "execution_count": 7,
   "id": "bdd22e74-9a59-4c7c-9daa-3c2e0b447bc5",
   "metadata": {},
   "outputs": [
    {
     "name": "stdout",
     "output_type": "stream",
     "text": [
      "My name is John and I am 50 years old.\n"
     ]
    }
   ],
   "source": [
    "name = \"John\"\n",
    "age = 50\n",
    "print(\"My name is {} and I am {} years old.\".format(name, age))"
   ]
  },
  {
   "cell_type": "markdown",
   "id": "d8cebf33-6958-4575-af46-5d100cf4094a",
   "metadata": {},
   "source": [
    "# % Operator"
   ]
  },
  {
   "cell_type": "markdown",
   "id": "4643c902-ed3d-4cac-9453-bcb9bc895d03",
   "metadata": {},
   "source": [
    "This is one of the oldest ways to format strings in Python. It uses the % operator to replace variables in the string. For example:"
   ]
  },
  {
   "cell_type": "code",
   "execution_count": 11,
   "id": "0b6dd0a1-6451-40e2-9995-9248f3c1ca38",
   "metadata": {},
   "outputs": [
    {
     "name": "stdout",
     "output_type": "stream",
     "text": [
      "My name is Johnathan and I am 30 years old.\n"
     ]
    }
   ],
   "source": [
    "name = \"Johnathan\"\n",
    "age = 30\n",
    "print(\"My name is %s and I am %d years old.\" % (name, age))"
   ]
  },
  {
   "cell_type": "markdown",
   "id": "bac2dcb0-0d6a-4a14-8978-0a7fae9ebc69",
   "metadata": {},
   "source": [
    "Each of these methods has its own advantages and use cases. However, f-strings are generally considered the most modern and preferred way to format strings in Python due to their readability and performance"
   ]
  },
  {
   "cell_type": "markdown",
   "id": "0693e812-0cf8-414e-875d-6f3ede70c582",
   "metadata": {},
   "source": [
    "# Additional capabilities"
   ]
  },
  {
   "cell_type": "markdown",
   "id": "c3e00759-5ea0-4c9b-b1d2-f1eb264e8ae3",
   "metadata": {},
   "source": [
    "F-strings are also able to evaluate expressions inside the curly braces, which can be very handy. For example:\n",
    "\n"
   ]
  },
  {
   "cell_type": "code",
   "execution_count": 16,
   "id": "5c2cf1e1-eab0-434c-9b01-77a1d5732a56",
   "metadata": {},
   "outputs": [
    {
     "name": "stdout",
     "output_type": "stream",
     "text": [
      "The sum of x and y is 30.\n"
     ]
    }
   ],
   "source": [
    "x = 10\n",
    "y = 20\n",
    "print(f\"The sum of x and y is {x+y}.\")"
   ]
  },
  {
   "cell_type": "markdown",
   "id": "0bc5121a-fe30-4cd8-929e-15ee3a5159a4",
   "metadata": {},
   "source": [
    "# Raw String (r’’)"
   ]
  },
  {
   "cell_type": "markdown",
   "id": "9b0b1919-e20c-475b-b388-86a71b3325f0",
   "metadata": {},
   "source": [
    "In Python, raw strings are a powerful tool for handling textual data, especially when dealing with escape characters. By prefixing a string literal with the letter ‘r’, Python treats the string as raw, meaning it interprets backslashes as literal characters rather than escape sequences.\n",
    "\n",
    "Consider the following examples of regular string and raw string:"
   ]
  },
  {
   "cell_type": "markdown",
   "id": "7fcb89d8-59a5-4124-864c-c3d4ed6225ad",
   "metadata": {},
   "source": [
    "· Regular string:\n",
    "\n"
   ]
  },
  {
   "cell_type": "code",
   "execution_count": 21,
   "id": "eea93511-5dec-4d75-b3d2-fe98052227e3",
   "metadata": {},
   "outputs": [
    {
     "name": "stdout",
     "output_type": "stream",
     "text": [
      "Regular String: C:\n",
      "ew_folder\f",
      "ile.txt\n"
     ]
    }
   ],
   "source": [
    "regular_string = \"C:\\new_folder\\file.txt\"\n",
    "print(\"Regular String:\", regular_string)"
   ]
  },
  {
   "cell_type": "markdown",
   "id": "32bca3e4-265c-4eef-9062-96e95c928a2f",
   "metadata": {},
   "source": [
    "In the regular string regular_string variable, the backslashes (\\n) are interpreted as escape sequences. Therefore, \\n represents a newline character, which would lead to an incorrect file path representation.\n",
    "\n"
   ]
  },
  {
   "cell_type": "markdown",
   "id": "387185c9-5a5a-4597-847f-8b6e17b17c41",
   "metadata": {},
   "source": [
    "· Raw string:"
   ]
  },
  {
   "cell_type": "code",
   "execution_count": 25,
   "id": "29bce420-ec99-4024-9947-f4292166dea8",
   "metadata": {},
   "outputs": [
    {
     "name": "stdout",
     "output_type": "stream",
     "text": [
      "Raw String: C:\\new_folder\\file.txt\n"
     ]
    }
   ],
   "source": [
    "raw_string = r\"C:\\new_folder\\file.txt\"\n",
    "print(\"Raw String:\", raw_string)"
   ]
  },
  {
   "cell_type": "markdown",
   "id": "9a77b980-8a0f-4f6d-be9b-d57329605574",
   "metadata": {},
   "source": [
    "However, in the raw string raw_string, the backslashes are treated as literal characters. This means that \\n is not interpreted as a newline character, but rather as two separate characters, ‘’ and ‘n’. Consequently, the file path is represented exactly as it appears."
   ]
  },
  {
   "cell_type": "code",
   "execution_count": null,
   "id": "dec673a7-3b5e-4ba2-9759-bcdb3bf9bc3d",
   "metadata": {},
   "outputs": [],
   "source": []
  }
 ],
 "metadata": {
  "kernelspec": {
   "display_name": "Python 3 (ipykernel)",
   "language": "python",
   "name": "python3"
  },
  "language_info": {
   "codemirror_mode": {
    "name": "ipython",
    "version": 3
   },
   "file_extension": ".py",
   "mimetype": "text/x-python",
   "name": "python",
   "nbconvert_exporter": "python",
   "pygments_lexer": "ipython3",
   "version": "3.11.7"
  }
 },
 "nbformat": 4,
 "nbformat_minor": 5
}
